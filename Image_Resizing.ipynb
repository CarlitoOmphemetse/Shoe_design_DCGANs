{
  "nbformat": 4,
  "nbformat_minor": 0,
  "metadata": {
    "colab": {
      "name": "Image Resizing",
      "provenance": []
    },
    "kernelspec": {
      "name": "python3",
      "display_name": "Python 3"
    },
    "accelerator": "GPU"
  },
  "cells": [
    {
      "cell_type": "code",
      "metadata": {
        "id": "i1psDZ0SrGgM",
        "colab_type": "code",
        "colab": {}
      },
      "source": [
        ""
      ],
      "execution_count": 0,
      "outputs": []
    },
    {
      "cell_type": "code",
      "metadata": {
        "id": "NUsAxqP3rKQT",
        "colab_type": "code",
        "outputId": "e9f18c91-2543-47c4-872c-33d64b568ffa",
        "colab": {
          "base_uri": "https://localhost:8080/",
          "height": 122
        }
      },
      "source": [
        "from google.colab import drive\n",
        "drive.mount('/content/drive')"
      ],
      "execution_count": 1,
      "outputs": [
        {
          "output_type": "stream",
          "text": [
            "Go to this URL in a browser: https://accounts.google.com/o/oauth2/auth?client_id=947318989803-6bn6qk8qdgf4n4g3pfee6491hc0brc4i.apps.googleusercontent.com&redirect_uri=urn%3Aietf%3Awg%3Aoauth%3A2.0%3Aoob&scope=email%20https%3A%2F%2Fwww.googleapis.com%2Fauth%2Fdocs.test%20https%3A%2F%2Fwww.googleapis.com%2Fauth%2Fdrive%20https%3A%2F%2Fwww.googleapis.com%2Fauth%2Fdrive.photos.readonly%20https%3A%2F%2Fwww.googleapis.com%2Fauth%2Fpeopleapi.readonly&response_type=code\n",
            "\n",
            "Enter your authorization code:\n",
            "··········\n",
            "Mounted at /content/drive\n"
          ],
          "name": "stdout"
        }
      ]
    },
    {
      "cell_type": "markdown",
      "metadata": {
        "id": "zURp5AyAwJXm",
        "colab_type": "text"
      },
      "source": [
        "# **Resize images**"
      ]
    },
    {
      "cell_type": "code",
      "metadata": {
        "id": "ILDU0xHFrLND",
        "colab_type": "code",
        "colab": {
          "base_uri": "https://localhost:8080/",
          "height": 34
        },
        "outputId": "783a75be-bd3b-466a-d12f-e98a8191ce31"
      },
      "source": [
        "cd /content/drive/My Drive/shoes_ims/resized_images"
      ],
      "execution_count": 4,
      "outputs": [
        {
          "output_type": "stream",
          "text": [
            "/content/drive/My Drive/shoes_ims/resized_images\n"
          ],
          "name": "stdout"
        }
      ]
    },
    {
      "cell_type": "code",
      "metadata": {
        "id": "t1DD-lTuraHy",
        "colab_type": "code",
        "colab": {
          "base_uri": "https://localhost:8080/",
          "height": 105
        },
        "outputId": "72347119-7460-4f67-ef3a-2e516f5b2541"
      },
      "source": [
        "from PIL import Image\n",
        "import os\n",
        "\n",
        "new_size = (299,299)\n",
        "\n",
        "\n",
        "#im = Image.open(\"audacious.png\")\n",
        "#rgb_im = im.convert('RGB')\n",
        "#rgb_im.save('audacious.jpg')\n",
        "\n",
        "for f in os.listdir('.'):\n",
        "  if f.endswith('.jpg'):\n",
        "    \n",
        "    i = Image.open(f)\n",
        "    i = i.convert('RGB')\n",
        "    i.save(f)\n",
        "    \n",
        "    fn,fext = os.path.splitext(f)\n",
        "    \n",
        "    i.thumbnail(new_size)\n",
        "    i.save('resized_images/{}_resized{}'.format(fn,fext))"
      ],
      "execution_count": 14,
      "outputs": [
        {
          "output_type": "stream",
          "text": [
            "/usr/local/lib/python3.6/dist-packages/PIL/TiffImagePlugin.py:725: UserWarning: Possibly corrupt EXIF data.  Expecting to read 7558 bytes but only got 7298. Skipping tag 37500\n",
            "  \" Skipping tag %s\" % (size, len(data), tag))\n",
            "/usr/local/lib/python3.6/dist-packages/PIL/TiffImagePlugin.py:725: UserWarning: Possibly corrupt EXIF data.  Expecting to read 7558 bytes but only got 7302. Skipping tag 37500\n",
            "  \" Skipping tag %s\" % (size, len(data), tag))\n"
          ],
          "name": "stderr"
        }
      ]
    },
    {
      "cell_type": "code",
      "metadata": {
        "id": "YvulpiFY_X1r",
        "colab_type": "code",
        "colab": {}
      },
      "source": [
        ""
      ],
      "execution_count": 0,
      "outputs": []
    },
    {
      "cell_type": "code",
      "metadata": {
        "id": "AK4tz2VH_aPc",
        "colab_type": "code",
        "colab": {}
      },
      "source": [
        ""
      ],
      "execution_count": 0,
      "outputs": []
    }
  ]
}