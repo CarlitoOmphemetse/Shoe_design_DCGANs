{
  "nbformat": 4,
  "nbformat_minor": 0,
  "metadata": {
    "colab": {
      "name": "model training",
      "provenance": []
    },
    "kernelspec": {
      "name": "python3",
      "display_name": "Python 3"
    },
    "accelerator": "GPU"
  },
  "cells": [
    {
      "cell_type": "code",
      "metadata": {
        "id": "yOzl3tMEv8F7",
        "colab_type": "code",
        "colab": {}
      },
      "source": [
        ""
      ],
      "execution_count": 0,
      "outputs": []
    },
    {
      "cell_type": "code",
      "metadata": {
        "id": "f0T_rUokwXZn",
        "colab_type": "code",
        "outputId": "1488d87d-dbb6-4ca6-e041-026d144dcb14",
        "colab": {
          "base_uri": "https://localhost:8080/",
          "height": 34
        }
      },
      "source": [
        "from google.colab import drive\n",
        "drive.mount('/content/drive')"
      ],
      "execution_count": 14,
      "outputs": [
        {
          "output_type": "stream",
          "text": [
            "Drive already mounted at /content/drive; to attempt to forcibly remount, call drive.mount(\"/content/drive\", force_remount=True).\n"
          ],
          "name": "stdout"
        }
      ]
    },
    {
      "cell_type": "code",
      "metadata": {
        "id": "vPO1Yl1EwYWV",
        "colab_type": "code",
        "colab": {}
      },
      "source": [
        ""
      ],
      "execution_count": 0,
      "outputs": []
    },
    {
      "cell_type": "code",
      "metadata": {
        "id": "wXkBgLaWwYZv",
        "colab_type": "code",
        "colab": {}
      },
      "source": [
        "from keras.layers import Input, Reshape, Dropout, Dense, Flatten, BatchNormalization, Activation, ZeroPadding2D\n",
        "from keras.layers.advanced_activations import LeakyReLU\n",
        "from keras.layers.convolutional import UpSampling2D, Conv2D\n",
        "from keras.models import Sequential, Model, load_model\n",
        "from keras.optimizers import Adam\n",
        "import numpy as np\n",
        "from PIL import Image\n",
        "from tqdm import tqdm\n",
        "import os\n"
      ],
      "execution_count": 0,
      "outputs": []
    },
    {
      "cell_type": "code",
      "metadata": {
        "id": "j7ApWJe5wYcw",
        "colab_type": "code",
        "outputId": "cc884397-d25b-41c4-9e62-aac22ac1f9ce",
        "colab": {
          "base_uri": "https://localhost:8080/",
          "height": 34
        }
      },
      "source": [
        "# Generation resolution - Must be square \n",
        "# Training data is also scaled to this.\n",
        "# Note GENERATE_RES higher than 4 will blow Google CoLab's memory.\n",
        "GENERATE_RES = 2 # (1=32, 2=64, 3=96, etc.)\n",
        "GENERATE_SQUARE = 32 * GENERATE_RES # rows/cols (should be square)\n",
        "IMAGE_CHANNELS = 3\n",
        "\n",
        "# Preview image \n",
        "PREVIEW_ROWS = 4\n",
        "PREVIEW_COLS = 7\n",
        "PREVIEW_MARGIN = 16\n",
        "SAVE_FREQ = 100\n",
        "\n",
        "# Size vector to generate images from\n",
        "SEED_SIZE = 100\n",
        "\n",
        "# Configuration\n",
        "DATA_PATH = '/content/drive/My Drive/shoes_ims'\n",
        "EPOCHS = 10000\n",
        "BATCH_SIZE = 32\n",
        "\n",
        "print(f\"Will generate {GENERATE_SQUARE}px square images.\")"
      ],
      "execution_count": 16,
      "outputs": [
        {
          "output_type": "stream",
          "text": [
            "Will generate 64px square images.\n"
          ],
          "name": "stdout"
        }
      ]
    },
    {
      "cell_type": "code",
      "metadata": {
        "id": "Zjsjt_SJwYgR",
        "colab_type": "code",
        "outputId": "0afa8dcf-bcc7-47e7-9c87-d5bf9a4c51a2",
        "colab": {
          "base_uri": "https://localhost:8080/",
          "height": 51
        }
      },
      "source": [
        "\n",
        "# Image set has 8142 images.  Can take over an hour for initial preprocessing.\n",
        "# Because of this time needed, save a Numpy preprocessed file.\n",
        "# Note, that file is large enough to cause problems for sume verisons of Pickle,\n",
        "# so Numpy binary files are used.\n",
        "training_binary_path = os.path.join(DATA_PATH,f'training_data_{GENERATE_SQUARE}_{GENERATE_SQUARE}.npy')\n",
        "\n",
        "print(f\"Looking for file: {training_binary_path}\")\n",
        "\n",
        "if not os.path.isfile(training_binary_path):\n",
        "  print(\"Loading training images...\")\n",
        "\n",
        "  training_data = []\n",
        "  faces_path = os.path.join(DATA_PATH,'resized_images')\n",
        "  for filename in tqdm(os.listdir(faces_path)):\n",
        "      path = os.path.join(faces_path,filename)\n",
        "      image = Image.open(path).resize((GENERATE_SQUARE,GENERATE_SQUARE),Image.ANTIALIAS)\n",
        "      training_data.append(np.asarray(image))\n",
        "  training_data = np.reshape(np.asarray(training_data),(-1,GENERATE_SQUARE,GENERATE_SQUARE,IMAGE_CHANNELS))\n",
        "  training_data = training_data / 127.5 - 1.\n",
        "\n",
        "  print(\"Saving training image binary...\")\n",
        "  np.save(training_binary_path,training_data)\n",
        "else:\n",
        "  print(\"Loading previous training pickle...\")\n",
        "  training_data = np.load(training_binary_path)"
      ],
      "execution_count": 17,
      "outputs": [
        {
          "output_type": "stream",
          "text": [
            "Looking for file: /content/drive/My Drive/shoes_ims/training_data_64_64.npy\n",
            "Loading previous training pickle...\n"
          ],
          "name": "stdout"
        }
      ]
    },
    {
      "cell_type": "code",
      "metadata": {
        "id": "yuLZS1kiwYlR",
        "colab_type": "code",
        "colab": {}
      },
      "source": [
        "def build_generator(seed_size, channels):\n",
        "    model = Sequential()\n",
        "\n",
        "    model.add(Dense(4*4*256,activation=\"relu\",input_dim=seed_size))\n",
        "    model.add(Reshape((4,4,256)))\n",
        "\n",
        "    model.add(UpSampling2D())\n",
        "    model.add(Conv2D(256,kernel_size=3,padding=\"same\"))\n",
        "    model.add(BatchNormalization(momentum=0.8))\n",
        "    model.add(Activation(\"relu\"))\n",
        "\n",
        "    model.add(UpSampling2D())\n",
        "    model.add(Conv2D(256,kernel_size=3,padding=\"same\"))\n",
        "    model.add(BatchNormalization(momentum=0.8))\n",
        "    model.add(Activation(\"relu\"))\n",
        "   \n",
        "    # Output resolution, additional upsampling\n",
        "    for i in range(GENERATE_RES):\n",
        "      model.add(UpSampling2D())\n",
        "      model.add(Conv2D(128,kernel_size=3,padding=\"same\"))\n",
        "      model.add(BatchNormalization(momentum=0.8))\n",
        "      model.add(Activation(\"relu\"))\n",
        "\n",
        "    # Final CNN layer\n",
        "    model.add(Conv2D(channels,kernel_size=3,padding=\"same\"))\n",
        "    model.add(Activation(\"tanh\"))\n",
        "\n",
        "    input = Input(shape=(seed_size,))\n",
        "    generated_image = model(input)\n",
        "\n",
        "    return Model(input,generated_image)"
      ],
      "execution_count": 0,
      "outputs": []
    },
    {
      "cell_type": "code",
      "metadata": {
        "id": "ZvLYuEs4wYou",
        "colab_type": "code",
        "colab": {}
      },
      "source": [
        "def build_discriminator(image_shape):\n",
        "    model = Sequential()\n",
        "\n",
        "    model.add(Conv2D(32, kernel_size=3, strides=2, input_shape=image_shape, padding=\"same\"))\n",
        "    model.add(LeakyReLU(alpha=0.2))\n",
        "\n",
        "    model.add(Dropout(0.25))\n",
        "    model.add(Conv2D(64, kernel_size=3, strides=2, padding=\"same\"))\n",
        "    model.add(ZeroPadding2D(padding=((0,1),(0,1))))\n",
        "    model.add(BatchNormalization(momentum=0.8))\n",
        "    model.add(LeakyReLU(alpha=0.2))\n",
        "\n",
        "    model.add(Dropout(0.25))\n",
        "    model.add(Conv2D(128, kernel_size=3, strides=2, padding=\"same\"))\n",
        "    model.add(BatchNormalization(momentum=0.8))\n",
        "    model.add(LeakyReLU(alpha=0.2))\n",
        "\n",
        "    model.add(Dropout(0.25))\n",
        "    model.add(Conv2D(256, kernel_size=3, strides=1, padding=\"same\"))\n",
        "    model.add(BatchNormalization(momentum=0.8))\n",
        "    model.add(LeakyReLU(alpha=0.2))\n",
        "\n",
        "    model.add(Dropout(0.25))\n",
        "    model.add(Conv2D(512, kernel_size=3, strides=1, padding=\"same\"))\n",
        "    model.add(BatchNormalization(momentum=0.8))\n",
        "    model.add(LeakyReLU(alpha=0.2))\n",
        "\n",
        "    model.add(Dropout(0.25))\n",
        "    model.add(Flatten())\n",
        "    model.add(Dense(1, activation='sigmoid'))\n",
        "\n",
        "    input_image = Input(shape=image_shape)\n",
        "\n",
        "    validity = model(input_image)\n",
        "\n",
        "    return Model(input_image, validity)"
      ],
      "execution_count": 0,
      "outputs": []
    },
    {
      "cell_type": "code",
      "metadata": {
        "id": "E49GGj8Pwxqf",
        "colab_type": "code",
        "colab": {}
      },
      "source": [
        "def save_images(cnt,noise):\n",
        "  image_array = np.full(( \n",
        "      PREVIEW_MARGIN + (PREVIEW_ROWS * (GENERATE_SQUARE+PREVIEW_MARGIN)), \n",
        "      PREVIEW_MARGIN + (PREVIEW_COLS * (GENERATE_SQUARE+PREVIEW_MARGIN)), 3), \n",
        "      255, dtype=np.uint8)\n",
        "  \n",
        "  generated_images = generator.predict(noise)\n",
        "\n",
        "  generated_images = 0.5 * generated_images + 0.5\n",
        "\n",
        "  image_count = 0\n",
        "  for row in range(PREVIEW_ROWS):\n",
        "      for col in range(PREVIEW_COLS):\n",
        "        r = row * (GENERATE_SQUARE+16) + PREVIEW_MARGIN\n",
        "        c = col * (GENERATE_SQUARE+16) + PREVIEW_MARGIN\n",
        "        image_array[r:r+GENERATE_SQUARE,c:c+GENERATE_SQUARE] = generated_images[image_count] * 255\n",
        "        image_count += 1\n",
        "\n",
        "          \n",
        "  output_path = os.path.join(DATA_PATH,'output')\n",
        "  if not os.path.exists(output_path):\n",
        "    os.makedirs(output_path)\n",
        "  \n",
        "  filename = os.path.join(output_path,f\"train-{cnt}.png\")\n",
        "  im = Image.fromarray(image_array)\n",
        "  im.save(filename)"
      ],
      "execution_count": 0,
      "outputs": []
    },
    {
      "cell_type": "code",
      "metadata": {
        "id": "2zLPlAmswxuC",
        "colab_type": "code",
        "colab": {}
      },
      "source": [
        "\n",
        "image_shape = (GENERATE_SQUARE,GENERATE_SQUARE,IMAGE_CHANNELS)\n",
        "optimizer = Adam(1.5e-4,0.5) # learning rate and momentum adjusted from paper\n",
        "\n",
        "discriminator = build_discriminator(image_shape)\n",
        "discriminator.compile(loss=\"binary_crossentropy\",optimizer=optimizer,metrics=[\"accuracy\"])\n",
        "generator = build_generator(SEED_SIZE,IMAGE_CHANNELS)\n",
        "\n",
        "random_input = Input(shape=(SEED_SIZE,))\n",
        "\n",
        "generated_image = generator(random_input)\n",
        "\n",
        "discriminator.trainable = False\n",
        "\n",
        "validity = discriminator(generated_image)\n",
        "\n",
        "combined = Model(random_input,validity)\n",
        "combined.compile(loss=\"binary_crossentropy\",optimizer=optimizer,metrics=[\"accuracy\"])"
      ],
      "execution_count": 0,
      "outputs": []
    },
    {
      "cell_type": "code",
      "metadata": {
        "id": "8V7GzwtUwxxo",
        "colab_type": "code",
        "outputId": "659a13d6-4b6f-4f75-aaad-09ea3a2322ac",
        "colab": {
          "base_uri": "https://localhost:8080/",
          "height": 1000
        }
      },
      "source": [
        "y_real = np.ones((BATCH_SIZE,1))\n",
        "y_fake = np.zeros((BATCH_SIZE,1))\n",
        "\n",
        "fixed_seed = np.random.normal(0, 1, (PREVIEW_ROWS * PREVIEW_COLS, SEED_SIZE))\n",
        "\n",
        "cnt = 1\n",
        "for epoch in range(EPOCHS):\n",
        "    idx = np.random.randint(0,training_data.shape[0],BATCH_SIZE)\n",
        "    x_real = training_data[idx]\n",
        "\n",
        "    # Generate some images\n",
        "    seed = np.random.normal(0,1,(BATCH_SIZE,SEED_SIZE))\n",
        "    x_fake = generator.predict(seed)\n",
        "\n",
        "    # Train discriminator on real and fake\n",
        "    discriminator_metric_real = discriminator.train_on_batch(x_real,y_real)\n",
        "    discriminator_metric_generated = discriminator.train_on_batch(x_fake,y_fake)\n",
        "    discriminator_metric = 0.5 * np.add(discriminator_metric_real,discriminator_metric_generated)\n",
        "    \n",
        "    # Train generator on Calculate losses\n",
        "    generator_metric = combined.train_on_batch(seed,y_real)\n",
        "    \n",
        "    # Time for an update?\n",
        "    if epoch % SAVE_FREQ == 0:\n",
        "        save_images(cnt, fixed_seed)\n",
        "        cnt += 1\n",
        "        print(f\"Epoch {epoch}, Discriminator accuarcy: {discriminator_metric[1]}, Generator accuracy: {generator_metric[1]}\")\n",
        "        \n",
        "generator.save(os.path.join(DATA_PATH,\"face_generator.h5\"))"
      ],
      "execution_count": 22,
      "outputs": [
        {
          "output_type": "stream",
          "text": [
            "/usr/local/lib/python3.6/dist-packages/keras/engine/training.py:493: UserWarning: Discrepancy between trainable weights and collected trainable weights, did you set `model.trainable` without calling `model.compile` after ?\n",
            "  'Discrepancy between trainable weights and collected trainable'\n",
            "/usr/local/lib/python3.6/dist-packages/keras/engine/training.py:493: UserWarning: Discrepancy between trainable weights and collected trainable weights, did you set `model.trainable` without calling `model.compile` after ?\n",
            "  'Discrepancy between trainable weights and collected trainable'\n"
          ],
          "name": "stderr"
        },
        {
          "output_type": "stream",
          "text": [
            "Epoch 0, Discriminator accuarcy: 0.390625, Generator accuracy: 0.78125\n"
          ],
          "name": "stdout"
        },
        {
          "output_type": "stream",
          "text": [
            "/usr/local/lib/python3.6/dist-packages/keras/engine/training.py:493: UserWarning: Discrepancy between trainable weights and collected trainable weights, did you set `model.trainable` without calling `model.compile` after ?\n",
            "  'Discrepancy between trainable weights and collected trainable'\n"
          ],
          "name": "stderr"
        },
        {
          "output_type": "stream",
          "text": [
            "Epoch 100, Discriminator accuarcy: 0.5625, Generator accuracy: 0.03125\n",
            "Epoch 200, Discriminator accuarcy: 0.484375, Generator accuracy: 0.28125\n",
            "Epoch 300, Discriminator accuarcy: 0.421875, Generator accuracy: 0.28125\n",
            "Epoch 400, Discriminator accuarcy: 0.40625, Generator accuracy: 0.125\n",
            "Epoch 500, Discriminator accuarcy: 0.390625, Generator accuracy: 0.3125\n",
            "Epoch 600, Discriminator accuarcy: 0.46875, Generator accuracy: 0.28125\n",
            "Epoch 700, Discriminator accuarcy: 0.5625, Generator accuracy: 0.25\n",
            "Epoch 800, Discriminator accuarcy: 0.578125, Generator accuracy: 0.1875\n",
            "Epoch 900, Discriminator accuarcy: 0.5, Generator accuracy: 0.28125\n",
            "Epoch 1000, Discriminator accuarcy: 0.4375, Generator accuracy: 0.25\n",
            "Epoch 1100, Discriminator accuarcy: 0.5625, Generator accuracy: 0.09375\n",
            "Epoch 1200, Discriminator accuarcy: 0.484375, Generator accuracy: 0.3125\n",
            "Epoch 1300, Discriminator accuarcy: 0.4375, Generator accuracy: 0.46875\n",
            "Epoch 1400, Discriminator accuarcy: 0.34375, Generator accuracy: 0.21875\n",
            "Epoch 1500, Discriminator accuarcy: 0.296875, Generator accuracy: 0.28125\n",
            "Epoch 1600, Discriminator accuarcy: 0.453125, Generator accuracy: 0.25\n",
            "Epoch 1700, Discriminator accuarcy: 0.515625, Generator accuracy: 0.15625\n",
            "Epoch 1800, Discriminator accuarcy: 0.4375, Generator accuracy: 0.125\n",
            "Epoch 1900, Discriminator accuarcy: 0.421875, Generator accuracy: 0.15625\n",
            "Epoch 2000, Discriminator accuarcy: 0.5625, Generator accuracy: 0.28125\n",
            "Epoch 2100, Discriminator accuarcy: 0.625, Generator accuracy: 0.21875\n",
            "Epoch 2200, Discriminator accuarcy: 0.53125, Generator accuracy: 0.3125\n",
            "Epoch 2300, Discriminator accuarcy: 0.515625, Generator accuracy: 0.15625\n",
            "Epoch 2400, Discriminator accuarcy: 0.53125, Generator accuracy: 0.21875\n",
            "Epoch 2500, Discriminator accuarcy: 0.625, Generator accuracy: 0.0625\n",
            "Epoch 2600, Discriminator accuarcy: 0.609375, Generator accuracy: 0.0625\n",
            "Epoch 2700, Discriminator accuarcy: 0.640625, Generator accuracy: 0.125\n",
            "Epoch 2800, Discriminator accuarcy: 0.5625, Generator accuracy: 0.21875\n",
            "Epoch 2900, Discriminator accuarcy: 0.453125, Generator accuracy: 0.15625\n",
            "Epoch 3000, Discriminator accuarcy: 0.6875, Generator accuracy: 0.09375\n",
            "Epoch 3100, Discriminator accuarcy: 0.640625, Generator accuracy: 0.125\n",
            "Epoch 3200, Discriminator accuarcy: 0.5625, Generator accuracy: 0.09375\n",
            "Epoch 3300, Discriminator accuarcy: 0.515625, Generator accuracy: 0.1875\n",
            "Epoch 3400, Discriminator accuarcy: 0.5625, Generator accuracy: 0.4375\n",
            "Epoch 3500, Discriminator accuarcy: 0.625, Generator accuracy: 0.09375\n",
            "Epoch 3600, Discriminator accuarcy: 0.671875, Generator accuracy: 0.125\n",
            "Epoch 3700, Discriminator accuarcy: 0.59375, Generator accuracy: 0.0\n",
            "Epoch 3800, Discriminator accuarcy: 0.703125, Generator accuracy: 0.09375\n",
            "Epoch 3900, Discriminator accuarcy: 0.359375, Generator accuracy: 0.125\n",
            "Epoch 4000, Discriminator accuarcy: 0.59375, Generator accuracy: 0.1875\n",
            "Epoch 4100, Discriminator accuarcy: 0.53125, Generator accuracy: 0.1875\n",
            "Epoch 4200, Discriminator accuarcy: 0.609375, Generator accuracy: 0.4375\n",
            "Epoch 4300, Discriminator accuarcy: 0.59375, Generator accuracy: 0.1875\n",
            "Epoch 4400, Discriminator accuarcy: 0.625, Generator accuracy: 0.28125\n",
            "Epoch 4500, Discriminator accuarcy: 0.484375, Generator accuracy: 0.125\n",
            "Epoch 4600, Discriminator accuarcy: 0.390625, Generator accuracy: 0.09375\n",
            "Epoch 4700, Discriminator accuarcy: 0.59375, Generator accuracy: 0.25\n",
            "Epoch 4800, Discriminator accuarcy: 0.609375, Generator accuracy: 0.28125\n",
            "Epoch 4900, Discriminator accuarcy: 0.640625, Generator accuracy: 0.125\n",
            "Epoch 5000, Discriminator accuarcy: 0.484375, Generator accuracy: 0.25\n",
            "Epoch 5100, Discriminator accuarcy: 0.4375, Generator accuracy: 0.28125\n",
            "Epoch 5200, Discriminator accuarcy: 0.625, Generator accuracy: 0.1875\n",
            "Epoch 5300, Discriminator accuarcy: 0.40625, Generator accuracy: 0.34375\n",
            "Epoch 5400, Discriminator accuarcy: 0.65625, Generator accuracy: 0.0625\n",
            "Epoch 5500, Discriminator accuarcy: 0.5625, Generator accuracy: 0.21875\n",
            "Epoch 5600, Discriminator accuarcy: 0.671875, Generator accuracy: 0.375\n",
            "Epoch 5700, Discriminator accuarcy: 0.65625, Generator accuracy: 0.21875\n",
            "Epoch 5800, Discriminator accuarcy: 0.53125, Generator accuracy: 0.34375\n",
            "Epoch 5900, Discriminator accuarcy: 0.546875, Generator accuracy: 0.0625\n",
            "Epoch 6000, Discriminator accuarcy: 0.640625, Generator accuracy: 0.15625\n",
            "Epoch 6100, Discriminator accuarcy: 0.296875, Generator accuracy: 0.34375\n",
            "Epoch 6200, Discriminator accuarcy: 0.484375, Generator accuracy: 0.21875\n",
            "Epoch 6300, Discriminator accuarcy: 0.265625, Generator accuracy: 0.1875\n",
            "Epoch 6400, Discriminator accuarcy: 0.609375, Generator accuracy: 0.15625\n",
            "Epoch 6500, Discriminator accuarcy: 0.78125, Generator accuracy: 0.1875\n",
            "Epoch 6600, Discriminator accuarcy: 0.640625, Generator accuracy: 0.09375\n",
            "Epoch 6700, Discriminator accuarcy: 0.640625, Generator accuracy: 0.0625\n",
            "Epoch 6800, Discriminator accuarcy: 0.5, Generator accuracy: 0.28125\n",
            "Epoch 6900, Discriminator accuarcy: 0.640625, Generator accuracy: 0.09375\n",
            "Epoch 7000, Discriminator accuarcy: 0.609375, Generator accuracy: 0.3125\n",
            "Epoch 7100, Discriminator accuarcy: 0.484375, Generator accuracy: 0.1875\n",
            "Epoch 7200, Discriminator accuarcy: 0.734375, Generator accuracy: 0.125\n",
            "Epoch 7300, Discriminator accuarcy: 0.6875, Generator accuracy: 0.09375\n",
            "Epoch 7400, Discriminator accuarcy: 0.5625, Generator accuracy: 0.25\n",
            "Epoch 7500, Discriminator accuarcy: 0.640625, Generator accuracy: 0.15625\n",
            "Epoch 7600, Discriminator accuarcy: 0.59375, Generator accuracy: 0.125\n",
            "Epoch 7700, Discriminator accuarcy: 0.5, Generator accuracy: 0.1875\n",
            "Epoch 7800, Discriminator accuarcy: 0.515625, Generator accuracy: 0.21875\n",
            "Epoch 7900, Discriminator accuarcy: 0.546875, Generator accuracy: 0.28125\n",
            "Epoch 8000, Discriminator accuarcy: 0.59375, Generator accuracy: 0.21875\n",
            "Epoch 8100, Discriminator accuarcy: 0.703125, Generator accuracy: 0.15625\n",
            "Epoch 8200, Discriminator accuarcy: 0.6875, Generator accuracy: 0.3125\n",
            "Epoch 8300, Discriminator accuarcy: 0.609375, Generator accuracy: 0.28125\n",
            "Epoch 8400, Discriminator accuarcy: 0.6875, Generator accuracy: 0.125\n",
            "Epoch 8500, Discriminator accuarcy: 0.640625, Generator accuracy: 0.125\n",
            "Epoch 8600, Discriminator accuarcy: 0.609375, Generator accuracy: 0.1875\n",
            "Epoch 8700, Discriminator accuarcy: 0.53125, Generator accuracy: 0.3125\n",
            "Epoch 8800, Discriminator accuarcy: 0.609375, Generator accuracy: 0.3125\n",
            "Epoch 8900, Discriminator accuarcy: 0.640625, Generator accuracy: 0.1875\n",
            "Epoch 9000, Discriminator accuarcy: 0.703125, Generator accuracy: 0.25\n",
            "Epoch 9100, Discriminator accuarcy: 0.578125, Generator accuracy: 0.1875\n",
            "Epoch 9200, Discriminator accuarcy: 0.65625, Generator accuracy: 0.09375\n",
            "Epoch 9300, Discriminator accuarcy: 0.546875, Generator accuracy: 0.1875\n",
            "Epoch 9400, Discriminator accuarcy: 0.59375, Generator accuracy: 0.3125\n",
            "Epoch 9500, Discriminator accuarcy: 0.65625, Generator accuracy: 0.15625\n",
            "Epoch 9600, Discriminator accuarcy: 0.625, Generator accuracy: 0.21875\n",
            "Epoch 9700, Discriminator accuarcy: 0.6875, Generator accuracy: 0.21875\n",
            "Epoch 9800, Discriminator accuarcy: 0.6875, Generator accuracy: 0.15625\n",
            "Epoch 9900, Discriminator accuarcy: 0.546875, Generator accuracy: 0.09375\n"
          ],
          "name": "stdout"
        }
      ]
    },
    {
      "cell_type": "code",
      "metadata": {
        "id": "lIMr7SfMwx07",
        "colab_type": "code",
        "colab": {}
      },
      "source": [
        ""
      ],
      "execution_count": 0,
      "outputs": []
    },
    {
      "cell_type": "code",
      "metadata": {
        "id": "WbcgmH5Swx4v",
        "colab_type": "code",
        "colab": {}
      },
      "source": [
        ""
      ],
      "execution_count": 0,
      "outputs": []
    }
  ]
}